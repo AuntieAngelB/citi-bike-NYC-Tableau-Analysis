{
 "cells": [
  {
   "cell_type": "markdown",
   "metadata": {},
   "source": [
    "### Summary citi bike NYC Ridership"
   ]
  },
  {
   "cell_type": "markdown",
   "metadata": {},
   "source": [
    "**CitiBike NYC Analysis**\n",
    "\n",
    "The major focus of this analysis is the period of June, 2014. For this period a Tableau package was created to explore demographics of gender and age. An in-depth worksheet looks at the time of day ride for each station for each day of the month. Top 10 start stations and bottom 10 stations are visualized in separate sheets. Finally, the system of start stations is visualized in a map. The start station markers are sized and colored by the number of starts to help users find the station by address. The map may be filtered by day of the week. A different pattern emerges for the weekdays than that of the weekends. One key station for the weekdays is located at 8th Ave and W. 31st St. This station is in the near proximity of Penn Station (Amtrak), Madison Square Garden, and the starting spot for many a tour. Similarly, the start station located on E42nd and Vanderbilt is near Grand Central Terminal (MTA Metro North Railway). \n",
    "\n",
    "The station located at W 21st and 6th Ave. is near the Empire State Building and Radio City Music Hall is another high count station on the weekends.\n",
    "\n",
    "In addition to the more granular Tableau analysis discussed above, the ridership data for the periods of Q2 2014 and Q2 2019 is analyzed using Pandas in a Jupyter Notebook. Overall ridership for Q2 2014 in terms of recorded trips was calculated as well as the in-quarter percentage growth.\n",
    "\n",
    "**Ridership:** 2,694,600 recorded trips in 2014 Q2.\n",
    "Percent change for the quarter: 36.433%.\n",
    "\n",
    "To look at the changing *proportions* of annual *subscribers:24 hour passes*, Q2 2014 was compared to the same  \n",
    "period for 2019: \n",
    "  In 2014 Q2, the proportion of annual subscribers to 24 hours passes was 1.037:1.\n",
    "  In 2019 Q2, the proportion of annual subscribers to 24 hours passes was 0.86:1.\n",
    "\n",
    "The percentage growth from 2014 to 2019 for annual members was 176.57%; \n",
    "the percentage growth for 24 Hours Passes was 232.23%."
   ]
  },
  {
   "cell_type": "code",
   "execution_count": 35,
   "metadata": {},
   "outputs": [],
   "source": [
    "# importing pandas module  \n",
    "import pandas as pd \n",
    "import numpy as np\n",
    "import matplotlib.pyplot as plt\n",
    "\n",
    "np.random.seed(444)"
   ]
  },
  {
   "cell_type": "code",
   "execution_count": 2,
   "metadata": {
    "scrolled": false
   },
   "outputs": [
    {
     "data": {
      "text/html": [
       "<div>\n",
       "<style scoped>\n",
       "    .dataframe tbody tr th:only-of-type {\n",
       "        vertical-align: middle;\n",
       "    }\n",
       "\n",
       "    .dataframe tbody tr th {\n",
       "        vertical-align: top;\n",
       "    }\n",
       "\n",
       "    .dataframe thead th {\n",
       "        text-align: right;\n",
       "    }\n",
       "</style>\n",
       "<table border=\"1\" class=\"dataframe\">\n",
       "  <thead>\n",
       "    <tr style=\"text-align: right;\">\n",
       "      <th></th>\n",
       "      <th>Date</th>\n",
       "      <th>Trips over the past 24-hours (midnight to 11:59pm)</th>\n",
       "      <th>Cumulative trips (since launch):</th>\n",
       "      <th>Miles traveled today (midnight to 11:59 pm)</th>\n",
       "      <th>Miles traveled to date:</th>\n",
       "      <th>Total Annual Memberships Sold</th>\n",
       "      <th>Annual Member Sign-Ups (midnight to 11:59 pm)</th>\n",
       "      <th>24-Hour Passes Purchased (midnight to 11:59 pm)</th>\n",
       "      <th>7-Day Passes Purchased (midnight to 11:59 pm)</th>\n",
       "    </tr>\n",
       "  </thead>\n",
       "  <tbody>\n",
       "    <tr>\n",
       "      <th>0</th>\n",
       "      <td>4/1/2014</td>\n",
       "      <td>26163</td>\n",
       "      <td>7395956</td>\n",
       "      <td>40.978</td>\n",
       "      <td>12,758,196</td>\n",
       "      <td>100337</td>\n",
       "      <td>174</td>\n",
       "      <td>475</td>\n",
       "      <td>67</td>\n",
       "    </tr>\n",
       "    <tr>\n",
       "      <th>1</th>\n",
       "      <td>4/2/2014</td>\n",
       "      <td>24299</td>\n",
       "      <td>7420255</td>\n",
       "      <td>35.540</td>\n",
       "      <td>12,793,736</td>\n",
       "      <td>100511</td>\n",
       "      <td>118</td>\n",
       "      <td>237</td>\n",
       "      <td>33</td>\n",
       "    </tr>\n",
       "    <tr>\n",
       "      <th>2</th>\n",
       "      <td>4/3/2014</td>\n",
       "      <td>28379</td>\n",
       "      <td>7448634</td>\n",
       "      <td>44.649</td>\n",
       "      <td>12,838,385</td>\n",
       "      <td>100629</td>\n",
       "      <td>171</td>\n",
       "      <td>596</td>\n",
       "      <td>63</td>\n",
       "    </tr>\n",
       "    <tr>\n",
       "      <th>3</th>\n",
       "      <td>4/4/2014</td>\n",
       "      <td>13593</td>\n",
       "      <td>7462227</td>\n",
       "      <td>17.644</td>\n",
       "      <td>12,856,030</td>\n",
       "      <td>100800</td>\n",
       "      <td>92</td>\n",
       "      <td>103</td>\n",
       "      <td>10</td>\n",
       "    </tr>\n",
       "    <tr>\n",
       "      <th>4</th>\n",
       "      <td>4/5/2014</td>\n",
       "      <td>20333</td>\n",
       "      <td>7482560</td>\n",
       "      <td>36.797</td>\n",
       "      <td>12,892,827</td>\n",
       "      <td>100892</td>\n",
       "      <td>127</td>\n",
       "      <td>1221</td>\n",
       "      <td>42</td>\n",
       "    </tr>\n",
       "  </tbody>\n",
       "</table>\n",
       "</div>"
      ],
      "text/plain": [
       "       Date  Trips over the past 24-hours (midnight to 11:59pm)  \\\n",
       "0  4/1/2014                                              26163    \n",
       "1  4/2/2014                                              24299    \n",
       "2  4/3/2014                                              28379    \n",
       "3  4/4/2014                                              13593    \n",
       "4  4/5/2014                                              20333    \n",
       "\n",
       "   Cumulative trips (since launch):  \\\n",
       "0                           7395956   \n",
       "1                           7420255   \n",
       "2                           7448634   \n",
       "3                           7462227   \n",
       "4                           7482560   \n",
       "\n",
       "   Miles traveled today (midnight to 11:59 pm) Miles traveled to date:  \\\n",
       "0                                       40.978              12,758,196   \n",
       "1                                       35.540              12,793,736   \n",
       "2                                       44.649              12,838,385   \n",
       "3                                       17.644              12,856,030   \n",
       "4                                       36.797              12,892,827   \n",
       "\n",
       "   Total Annual Memberships Sold  \\\n",
       "0                         100337   \n",
       "1                         100511   \n",
       "2                         100629   \n",
       "3                         100800   \n",
       "4                         100892   \n",
       "\n",
       "   Annual Member Sign-Ups (midnight to 11:59 pm)  \\\n",
       "0                                            174   \n",
       "1                                            118   \n",
       "2                                            171   \n",
       "3                                             92   \n",
       "4                                            127   \n",
       "\n",
       "   24-Hour Passes Purchased (midnight to 11:59 pm)  \\\n",
       "0                                              475   \n",
       "1                                              237   \n",
       "2                                              596   \n",
       "3                                              103   \n",
       "4                                             1221   \n",
       "\n",
       "   7-Day Passes Purchased (midnight to 11:59 pm)  \n",
       "0                                             67  \n",
       "1                                             33  \n",
       "2                                             63  \n",
       "3                                             10  \n",
       "4                                             42  "
      ]
     },
     "execution_count": 2,
     "metadata": {},
     "output_type": "execute_result"
    }
   ],
   "source": [
    "# reading csv file from url  \n",
    "data = pd.read_csv(\"/Users/rebeccajbooth/Documents/newcitidata/q2ridership.csv\")\n",
    "data.head() "
   ]
  },
  {
   "cell_type": "code",
   "execution_count": 3,
   "metadata": {},
   "outputs": [
    {
     "data": {
      "text/plain": [
       "91"
      ]
     },
     "execution_count": 3,
     "metadata": {},
     "output_type": "execute_result"
    }
   ],
   "source": [
    "data['Date'].count()"
   ]
  },
  {
   "cell_type": "markdown",
   "metadata": {},
   "source": [
    "# How many trips have been recorded total during 2014?"
   ]
  },
  {
   "cell_type": "markdown",
   "metadata": {},
   "source": [
    "# 2,694,600"
   ]
  },
  {
   "cell_type": "markdown",
   "metadata": {},
   "source": [
    "Methodology:\n",
    "\n",
    "The number of trips was calculated in variable 'ridership_growth' by subtracting the first day of the period, 'Cumulative trips (since launch)'from the last day of the period, 'Cumulative trips (since launch)' \n",
    "*qrtcum_finish = data[\"Cumulative trips (since launch):\"].max() less \n",
    "*qrtcum_start = data[\"Cumulative trips (since launch):\"].min()"
   ]
  },
  {
   "cell_type": "code",
   "execution_count": 4,
   "metadata": {},
   "outputs": [],
   "source": [
    "qrtcum_finish = data[\"Cumulative trips (since launch):\"].max()"
   ]
  },
  {
   "cell_type": "code",
   "execution_count": 5,
   "metadata": {},
   "outputs": [],
   "source": [
    "qrtcum_start = data[\"Cumulative trips (since launch):\"].min()"
   ]
  },
  {
   "cell_type": "code",
   "execution_count": 6,
   "metadata": {},
   "outputs": [
    {
     "data": {
      "text/plain": [
       "2694600"
      ]
     },
     "execution_count": 6,
     "metadata": {},
     "output_type": "execute_result"
    }
   ],
   "source": [
    "ridership_growth = qrtcum_finish - qrtcum_start\n",
    "ridership_growth"
   ]
  },
  {
   "cell_type": "markdown",
   "metadata": {},
   "source": [
    "# For 2014, by what percentage has total ridership grown? "
   ]
  },
  {
   "cell_type": "markdown",
   "metadata": {},
   "source": [
    "# 36.43% "
   ]
  },
  {
   "cell_type": "code",
   "execution_count": 7,
   "metadata": {},
   "outputs": [
    {
     "data": {
      "text/plain": [
       "36.433423887324366"
      ]
     },
     "execution_count": 7,
     "metadata": {},
     "output_type": "execute_result"
    }
   ],
   "source": [
    "percent_ridership_growth = (ridership_growth / qrtcum_start) * 100\n",
    "percent_ridership_growth\n"
   ]
  },
  {
   "cell_type": "markdown",
   "metadata": {},
   "source": [
    "# How has the proportion of short-term customers and annual subscribers changed?"
   ]
  },
  {
   "cell_type": "markdown",
   "metadata": {},
   "source": [
    "2014 Q2: Annual subscribers : 24 hour passes = 1.037 : 1"
   ]
  },
  {
   "cell_type": "markdown",
   "metadata": {},
   "source": [
    "2019 Q2: Annual subscribers : 24 hours passes = 0.86 : 1"
   ]
  },
  {
   "cell_type": "markdown",
   "metadata": {},
   "source": [
    "Methodology: \n",
    "* Compared 2nd Quarter 2014 to 2nd Quarter 2019\n",
    "* Max Total Annual Members (All Time) \n",
    "* 24-Hour Passes Purchased (midnight to 11:59 pm)\t"
   ]
  },
  {
   "cell_type": "code",
   "execution_count": 8,
   "metadata": {},
   "outputs": [
    {
     "data": {
      "text/plain": [
       "114260"
      ]
     },
     "execution_count": 8,
     "metadata": {},
     "output_type": "execute_result"
    }
   ],
   "source": [
    "qrtcum_annmembers = data[\"Total Annual Memberships Sold\"].max()\n",
    "onedaysu_cum = data['24-Hour Passes Purchased (midnight to 11:59 pm)'].sum()\n",
    "\n",
    "qrtcum_annmembers"
   ]
  },
  {
   "cell_type": "code",
   "execution_count": 9,
   "metadata": {},
   "outputs": [
    {
     "data": {
      "text/plain": [
       "110170"
      ]
     },
     "execution_count": 9,
     "metadata": {},
     "output_type": "execute_result"
    }
   ],
   "source": [
    "onedaysu_cum"
   ]
  },
  {
   "cell_type": "code",
   "execution_count": 10,
   "metadata": {},
   "outputs": [
    {
     "data": {
      "text/plain": [
       "1.0371244440410274"
      ]
     },
     "execution_count": 10,
     "metadata": {},
     "output_type": "execute_result"
    }
   ],
   "source": [
    "proportion1 = qrtcum_annmembers / onedaysu_cum\n",
    "proportion1"
   ]
  },
  {
   "cell_type": "markdown",
   "metadata": {},
   "source": [
    "# How has membership for 24 hour passes and Annual Memberships changed from 2014 to 2019 [Q2]?"
   ]
  },
  {
   "cell_type": "markdown",
   "metadata": {},
   "source": [
    "*Annual Memberships increased by 176.57%; *Twenty-four Hours Passes increased by 232.23%."
   ]
  },
  {
   "cell_type": "code",
   "execution_count": 11,
   "metadata": {},
   "outputs": [
    {
     "data": {
      "text/html": [
       "<div>\n",
       "<style scoped>\n",
       "    .dataframe tbody tr th:only-of-type {\n",
       "        vertical-align: middle;\n",
       "    }\n",
       "\n",
       "    .dataframe tbody tr th {\n",
       "        vertical-align: top;\n",
       "    }\n",
       "\n",
       "    .dataframe thead th {\n",
       "        text-align: right;\n",
       "    }\n",
       "</style>\n",
       "<table border=\"1\" class=\"dataframe\">\n",
       "  <thead>\n",
       "    <tr style=\"text-align: right;\">\n",
       "      <th></th>\n",
       "      <th>Date</th>\n",
       "      <th>Trips over the past 24-hours (midnight to 11:59pm)</th>\n",
       "      <th>Miles traveled today (midnight to 11:59 pm)</th>\n",
       "      <th>Total Annual Members (All Time)</th>\n",
       "      <th>24-Hour Passes Purchased (midnight to 11:59 pm)</th>\n",
       "      <th>3-Day Passes Purchased (midnight to 11:59 pm)</th>\n",
       "      <th>Column 1</th>\n",
       "    </tr>\n",
       "  </thead>\n",
       "  <tbody>\n",
       "    <tr>\n",
       "      <th>0</th>\n",
       "      <td>4/1/19</td>\n",
       "      <td>51399</td>\n",
       "      <td>75072</td>\n",
       "      <td>303223</td>\n",
       "      <td>1466</td>\n",
       "      <td>76</td>\n",
       "      <td>undefined</td>\n",
       "    </tr>\n",
       "    <tr>\n",
       "      <th>1</th>\n",
       "      <td>4/2/19</td>\n",
       "      <td>57903</td>\n",
       "      <td>83399</td>\n",
       "      <td>303386</td>\n",
       "      <td>1483</td>\n",
       "      <td>73</td>\n",
       "      <td>undefined</td>\n",
       "    </tr>\n",
       "    <tr>\n",
       "      <th>2</th>\n",
       "      <td>4/3/19</td>\n",
       "      <td>67924</td>\n",
       "      <td>108780</td>\n",
       "      <td>303552</td>\n",
       "      <td>3013</td>\n",
       "      <td>79</td>\n",
       "      <td>undefined</td>\n",
       "    </tr>\n",
       "    <tr>\n",
       "      <th>3</th>\n",
       "      <td>4/4/19</td>\n",
       "      <td>66403</td>\n",
       "      <td>104268</td>\n",
       "      <td>303699</td>\n",
       "      <td>2633</td>\n",
       "      <td>87</td>\n",
       "      <td>undefined</td>\n",
       "    </tr>\n",
       "    <tr>\n",
       "      <th>4</th>\n",
       "      <td>4/5/19</td>\n",
       "      <td>34470</td>\n",
       "      <td>46930</td>\n",
       "      <td>303766</td>\n",
       "      <td>812</td>\n",
       "      <td>46</td>\n",
       "      <td>undefined</td>\n",
       "    </tr>\n",
       "  </tbody>\n",
       "</table>\n",
       "</div>"
      ],
      "text/plain": [
       "     Date  Trips over the past 24-hours (midnight to 11:59pm)  \\\n",
       "0  4/1/19                                              51399    \n",
       "1  4/2/19                                              57903    \n",
       "2  4/3/19                                              67924    \n",
       "3  4/4/19                                              66403    \n",
       "4  4/5/19                                              34470    \n",
       "\n",
       "   Miles traveled today (midnight to 11:59 pm)  \\\n",
       "0                                        75072   \n",
       "1                                        83399   \n",
       "2                                       108780   \n",
       "3                                       104268   \n",
       "4                                        46930   \n",
       "\n",
       "   Total Annual Members (All Time)  \\\n",
       "0                           303223   \n",
       "1                           303386   \n",
       "2                           303552   \n",
       "3                           303699   \n",
       "4                           303766   \n",
       "\n",
       "   24-Hour Passes Purchased (midnight to 11:59 pm)  \\\n",
       "0                                             1466   \n",
       "1                                             1483   \n",
       "2                                             3013   \n",
       "3                                             2633   \n",
       "4                                              812   \n",
       "\n",
       "   3-Day Passes Purchased (midnight to 11:59 pm)   Column 1  \n",
       "0                                             76  undefined  \n",
       "1                                             73  undefined  \n",
       "2                                             79  undefined  \n",
       "3                                             87  undefined  \n",
       "4                                             46  undefined  "
      ]
     },
     "execution_count": 11,
     "metadata": {},
     "output_type": "execute_result"
    }
   ],
   "source": [
    "data1 = pd.read_csv(\"/Users/rebeccajbooth/Documents/newcitidata/data-MM5kM.csv\")\n",
    "data1.head()"
   ]
  },
  {
   "cell_type": "code",
   "execution_count": 12,
   "metadata": {},
   "outputs": [],
   "source": [
    "qrtcum_annmembers1 = data1[\"Total Annual Members (All Time)\"].max()\n",
    "onedaysu_cum1 = data1['24-Hour Passes Purchased (midnight to 11:59 pm)'].sum()"
   ]
  },
  {
   "cell_type": "code",
   "execution_count": 13,
   "metadata": {},
   "outputs": [
    {
     "data": {
      "text/plain": [
       "366017"
      ]
     },
     "execution_count": 13,
     "metadata": {},
     "output_type": "execute_result"
    }
   ],
   "source": [
    "onedaysu_cum1"
   ]
  },
  {
   "cell_type": "code",
   "execution_count": 14,
   "metadata": {},
   "outputs": [
    {
     "data": {
      "text/plain": [
       "316007"
      ]
     },
     "execution_count": 14,
     "metadata": {},
     "output_type": "execute_result"
    }
   ],
   "source": [
    "qrtcum_annmembers1 "
   ]
  },
  {
   "cell_type": "code",
   "execution_count": 15,
   "metadata": {},
   "outputs": [
    {
     "data": {
      "text/plain": [
       "201747"
      ]
     },
     "execution_count": 15,
     "metadata": {},
     "output_type": "execute_result"
    }
   ],
   "source": [
    "annmembers_growth = qrtcum_annmembers1 - qrtcum_annmembers\n",
    "annmembers_growth\n"
   ]
  },
  {
   "cell_type": "code",
   "execution_count": 16,
   "metadata": {},
   "outputs": [
    {
     "data": {
      "text/plain": [
       "176.56835287939788"
      ]
     },
     "execution_count": 16,
     "metadata": {},
     "output_type": "execute_result"
    }
   ],
   "source": [
    "percent_annmembers_growth = (annmembers_growth / qrtcum_annmembers) * 100\n",
    "percent_annmembers_growth"
   ]
  },
  {
   "cell_type": "code",
   "execution_count": 17,
   "metadata": {},
   "outputs": [
    {
     "data": {
      "text/plain": [
       "255847"
      ]
     },
     "execution_count": 17,
     "metadata": {},
     "output_type": "execute_result"
    }
   ],
   "source": [
    "onedaypass_growth = onedaysu_cum1 - onedaysu_cum\n",
    "onedaypass_growth"
   ]
  },
  {
   "cell_type": "code",
   "execution_count": 18,
   "metadata": {},
   "outputs": [
    {
     "data": {
      "text/plain": [
       "232.22928201869837"
      ]
     },
     "execution_count": 18,
     "metadata": {},
     "output_type": "execute_result"
    }
   ],
   "source": [
    "percent_onedaypass_growth = (onedaypass_growth / onedaysu_cum) * 100\n",
    "percent_onedaypass_growth"
   ]
  },
  {
   "cell_type": "code",
   "execution_count": 19,
   "metadata": {},
   "outputs": [
    {
     "data": {
      "text/plain": [
       "0.8633670020791384"
      ]
     },
     "execution_count": 19,
     "metadata": {},
     "output_type": "execute_result"
    }
   ],
   "source": [
    "proportion2 = qrtcum_annmembers1 / onedaysu_cum1\n",
    "proportion2"
   ]
  },
  {
   "cell_type": "code",
   "execution_count": 20,
   "metadata": {
    "scrolled": true
   },
   "outputs": [
    {
     "name": "stderr",
     "output_type": "stream",
     "text": [
      "/anaconda3/lib/python3.7/site-packages/IPython/core/interactiveshell.py:3049: DtypeWarning: Columns (13) have mixed types. Specify dtype option on import or set low_memory=False.\n",
      "  interactivity=interactivity, compiler=compiler, result=result)\n"
     ]
    },
    {
     "data": {
      "text/html": [
       "<div>\n",
       "<style scoped>\n",
       "    .dataframe tbody tr th:only-of-type {\n",
       "        vertical-align: middle;\n",
       "    }\n",
       "\n",
       "    .dataframe tbody tr th {\n",
       "        vertical-align: top;\n",
       "    }\n",
       "\n",
       "    .dataframe thead th {\n",
       "        text-align: right;\n",
       "    }\n",
       "</style>\n",
       "<table border=\"1\" class=\"dataframe\">\n",
       "  <thead>\n",
       "    <tr style=\"text-align: right;\">\n",
       "      <th></th>\n",
       "      <th>tripduration</th>\n",
       "      <th>starttime</th>\n",
       "      <th>stoptime</th>\n",
       "      <th>start.station.id</th>\n",
       "      <th>start.station.name</th>\n",
       "      <th>start.station.latitude</th>\n",
       "      <th>start.station.longitude</th>\n",
       "      <th>end.station.id</th>\n",
       "      <th>end.station.name</th>\n",
       "      <th>end.station.latitude</th>\n",
       "      <th>end.station.longitude</th>\n",
       "      <th>bikeid</th>\n",
       "      <th>usertype</th>\n",
       "      <th>birth_year</th>\n",
       "      <th>gender</th>\n",
       "      <th>LatLng</th>\n",
       "      <th>State</th>\n",
       "      <th>City</th>\n",
       "    </tr>\n",
       "  </thead>\n",
       "  <tbody>\n",
       "    <tr>\n",
       "      <th>0</th>\n",
       "      <td>917</td>\n",
       "      <td>6/2/14 17:38</td>\n",
       "      <td>6/2/14 17:53</td>\n",
       "      <td>259</td>\n",
       "      <td>South St &amp; Whitehall St</td>\n",
       "      <td>40.701221</td>\n",
       "      <td>-74.012342</td>\n",
       "      <td>349</td>\n",
       "      <td>Rivington St &amp; Ridge St</td>\n",
       "      <td>40.718502</td>\n",
       "      <td>-73.983299</td>\n",
       "      <td>15809</td>\n",
       "      <td>Subscriber</td>\n",
       "      <td>1899</td>\n",
       "      <td>1</td>\n",
       "      <td>40.701221 -74.012342</td>\n",
       "      <td>New York</td>\n",
       "      <td>New York</td>\n",
       "    </tr>\n",
       "    <tr>\n",
       "      <th>1</th>\n",
       "      <td>1284</td>\n",
       "      <td>6/2/14 20:10</td>\n",
       "      <td>6/2/14 20:32</td>\n",
       "      <td>349</td>\n",
       "      <td>Rivington St &amp; Ridge St</td>\n",
       "      <td>40.718502</td>\n",
       "      <td>-73.983299</td>\n",
       "      <td>259</td>\n",
       "      <td>South St &amp; Whitehall St</td>\n",
       "      <td>40.701221</td>\n",
       "      <td>-74.012342</td>\n",
       "      <td>19449</td>\n",
       "      <td>Subscriber</td>\n",
       "      <td>1899</td>\n",
       "      <td>1</td>\n",
       "      <td>40.718502 -73.983299</td>\n",
       "      <td>New York</td>\n",
       "      <td>New York</td>\n",
       "    </tr>\n",
       "    <tr>\n",
       "      <th>2</th>\n",
       "      <td>629</td>\n",
       "      <td>6/3/14 16:43</td>\n",
       "      <td>6/3/14 16:53</td>\n",
       "      <td>259</td>\n",
       "      <td>South St &amp; Whitehall St</td>\n",
       "      <td>40.701221</td>\n",
       "      <td>-74.012342</td>\n",
       "      <td>2009</td>\n",
       "      <td>Catherine St &amp; Monroe St</td>\n",
       "      <td>40.711174</td>\n",
       "      <td>-73.996826</td>\n",
       "      <td>14759</td>\n",
       "      <td>Subscriber</td>\n",
       "      <td>1899</td>\n",
       "      <td>1</td>\n",
       "      <td>40.701221 -74.012342</td>\n",
       "      <td>New York</td>\n",
       "      <td>New York</td>\n",
       "    </tr>\n",
       "    <tr>\n",
       "      <th>3</th>\n",
       "      <td>602</td>\n",
       "      <td>6/3/14 17:14</td>\n",
       "      <td>6/3/14 17:24</td>\n",
       "      <td>295</td>\n",
       "      <td>Pike St &amp; E Broadway</td>\n",
       "      <td>40.714067</td>\n",
       "      <td>-73.992939</td>\n",
       "      <td>250</td>\n",
       "      <td>Lafayette St &amp; Jersey St</td>\n",
       "      <td>40.724561</td>\n",
       "      <td>-73.995653</td>\n",
       "      <td>17486</td>\n",
       "      <td>Subscriber</td>\n",
       "      <td>1899</td>\n",
       "      <td>1</td>\n",
       "      <td>40.714067 -73.992939</td>\n",
       "      <td>New York</td>\n",
       "      <td>New York</td>\n",
       "    </tr>\n",
       "    <tr>\n",
       "      <th>4</th>\n",
       "      <td>341</td>\n",
       "      <td>6/3/14 20:22</td>\n",
       "      <td>6/3/14 20:28</td>\n",
       "      <td>151</td>\n",
       "      <td>Cleveland Pl &amp; Spring St</td>\n",
       "      <td>40.721816</td>\n",
       "      <td>-73.997203</td>\n",
       "      <td>263</td>\n",
       "      <td>Elizabeth St &amp; Hester St</td>\n",
       "      <td>40.717290</td>\n",
       "      <td>-73.996375</td>\n",
       "      <td>15211</td>\n",
       "      <td>Subscriber</td>\n",
       "      <td>1899</td>\n",
       "      <td>1</td>\n",
       "      <td>40.721816 -73.997203</td>\n",
       "      <td>New York</td>\n",
       "      <td>New York</td>\n",
       "    </tr>\n",
       "  </tbody>\n",
       "</table>\n",
       "</div>"
      ],
      "text/plain": [
       "   tripduration     starttime      stoptime  start.station.id  \\\n",
       "0           917  6/2/14 17:38  6/2/14 17:53               259   \n",
       "1          1284  6/2/14 20:10  6/2/14 20:32               349   \n",
       "2           629  6/3/14 16:43  6/3/14 16:53               259   \n",
       "3           602  6/3/14 17:14  6/3/14 17:24               295   \n",
       "4           341  6/3/14 20:22  6/3/14 20:28               151   \n",
       "\n",
       "         start.station.name  start.station.latitude  start.station.longitude  \\\n",
       "0   South St & Whitehall St               40.701221               -74.012342   \n",
       "1   Rivington St & Ridge St               40.718502               -73.983299   \n",
       "2   South St & Whitehall St               40.701221               -74.012342   \n",
       "3      Pike St & E Broadway               40.714067               -73.992939   \n",
       "4  Cleveland Pl & Spring St               40.721816               -73.997203   \n",
       "\n",
       "   end.station.id          end.station.name  end.station.latitude  \\\n",
       "0             349   Rivington St & Ridge St             40.718502   \n",
       "1             259   South St & Whitehall St             40.701221   \n",
       "2            2009  Catherine St & Monroe St             40.711174   \n",
       "3             250  Lafayette St & Jersey St             40.724561   \n",
       "4             263  Elizabeth St & Hester St             40.717290   \n",
       "\n",
       "   end.station.longitude  bikeid    usertype birth_year  gender  \\\n",
       "0             -73.983299   15809  Subscriber       1899       1   \n",
       "1             -74.012342   19449  Subscriber       1899       1   \n",
       "2             -73.996826   14759  Subscriber       1899       1   \n",
       "3             -73.995653   17486  Subscriber       1899       1   \n",
       "4             -73.996375   15211  Subscriber       1899       1   \n",
       "\n",
       "                 LatLng     State      City  \n",
       "0  40.701221 -74.012342  New York  New York  \n",
       "1  40.718502 -73.983299  New York  New York  \n",
       "2  40.701221 -74.012342  New York  New York  \n",
       "3  40.714067 -73.992939  New York  New York  \n",
       "4  40.721816 -73.997203  New York  New York  "
      ]
     },
     "execution_count": 20,
     "metadata": {},
     "output_type": "execute_result"
    }
   ],
   "source": [
    "td_data = pd.read_csv(\"/Users/rebeccajbooth/Documents/tableaunycbike/CitiBiketrips_June06.csv\")\n",
    "td_data.head()"
   ]
  },
  {
   "cell_type": "code",
   "execution_count": 21,
   "metadata": {},
   "outputs": [
    {
     "data": {
      "text/plain": [
       "tripduration                 int64\n",
       "starttime                   object\n",
       "stoptime                    object\n",
       "start.station.id             int64\n",
       "start.station.name          object\n",
       "start.station.latitude     float64\n",
       "start.station.longitude    float64\n",
       "end.station.id               int64\n",
       "end.station.name            object\n",
       "end.station.latitude       float64\n",
       "end.station.longitude      float64\n",
       "bikeid                       int64\n",
       "usertype                    object\n",
       "birth_year                  object\n",
       "gender                       int64\n",
       "LatLng                      object\n",
       "State                       object\n",
       "City                        object\n",
       "dtype: object"
      ]
     },
     "execution_count": 21,
     "metadata": {},
     "output_type": "execute_result"
    }
   ],
   "source": [
    "td_data.dtypes"
   ]
  },
  {
   "cell_type": "code",
   "execution_count": 22,
   "metadata": {},
   "outputs": [
    {
     "data": {
      "text/html": [
       "<div>\n",
       "<style scoped>\n",
       "    .dataframe tbody tr th:only-of-type {\n",
       "        vertical-align: middle;\n",
       "    }\n",
       "\n",
       "    .dataframe tbody tr th {\n",
       "        vertical-align: top;\n",
       "    }\n",
       "\n",
       "    .dataframe thead th {\n",
       "        text-align: right;\n",
       "    }\n",
       "</style>\n",
       "<table border=\"1\" class=\"dataframe\">\n",
       "  <thead>\n",
       "    <tr style=\"text-align: right;\">\n",
       "      <th></th>\n",
       "      <th>tripduration</th>\n",
       "      <th>start.station.id</th>\n",
       "      <th>start.station.latitude</th>\n",
       "      <th>start.station.longitude</th>\n",
       "      <th>end.station.id</th>\n",
       "      <th>end.station.latitude</th>\n",
       "      <th>end.station.longitude</th>\n",
       "      <th>bikeid</th>\n",
       "      <th>gender</th>\n",
       "    </tr>\n",
       "  </thead>\n",
       "  <tbody>\n",
       "    <tr>\n",
       "      <th>count</th>\n",
       "      <td>936880.000000</td>\n",
       "      <td>936880.000000</td>\n",
       "      <td>936880.000000</td>\n",
       "      <td>936880.000000</td>\n",
       "      <td>936880.000000</td>\n",
       "      <td>936880.000000</td>\n",
       "      <td>936880.000000</td>\n",
       "      <td>936880.000000</td>\n",
       "      <td>936880.000000</td>\n",
       "    </tr>\n",
       "    <tr>\n",
       "      <th>mean</th>\n",
       "      <td>892.240022</td>\n",
       "      <td>453.720084</td>\n",
       "      <td>40.734018</td>\n",
       "      <td>-73.991431</td>\n",
       "      <td>452.848643</td>\n",
       "      <td>40.733643</td>\n",
       "      <td>-73.991475</td>\n",
       "      <td>18156.610201</td>\n",
       "      <td>1.084565</td>\n",
       "    </tr>\n",
       "    <tr>\n",
       "      <th>std</th>\n",
       "      <td>919.055773</td>\n",
       "      <td>377.767545</td>\n",
       "      <td>0.019564</td>\n",
       "      <td>0.012439</td>\n",
       "      <td>378.026358</td>\n",
       "      <td>0.019586</td>\n",
       "      <td>0.012559</td>\n",
       "      <td>2106.789609</td>\n",
       "      <td>0.574513</td>\n",
       "    </tr>\n",
       "    <tr>\n",
       "      <th>min</th>\n",
       "      <td>60.000000</td>\n",
       "      <td>72.000000</td>\n",
       "      <td>40.680342</td>\n",
       "      <td>-74.017134</td>\n",
       "      <td>72.000000</td>\n",
       "      <td>40.680342</td>\n",
       "      <td>-74.017134</td>\n",
       "      <td>14529.000000</td>\n",
       "      <td>0.000000</td>\n",
       "    </tr>\n",
       "    <tr>\n",
       "      <th>25%</th>\n",
       "      <td>417.000000</td>\n",
       "      <td>306.000000</td>\n",
       "      <td>40.720434</td>\n",
       "      <td>-74.001497</td>\n",
       "      <td>305.000000</td>\n",
       "      <td>40.720196</td>\n",
       "      <td>-74.001547</td>\n",
       "      <td>16335.000000</td>\n",
       "      <td>1.000000</td>\n",
       "    </tr>\n",
       "    <tr>\n",
       "      <th>50%</th>\n",
       "      <td>673.000000</td>\n",
       "      <td>403.000000</td>\n",
       "      <td>40.735354</td>\n",
       "      <td>-73.991255</td>\n",
       "      <td>402.000000</td>\n",
       "      <td>40.735238</td>\n",
       "      <td>-73.991255</td>\n",
       "      <td>18161.000000</td>\n",
       "      <td>1.000000</td>\n",
       "    </tr>\n",
       "    <tr>\n",
       "      <th>75%</th>\n",
       "      <td>1112.000000</td>\n",
       "      <td>489.000000</td>\n",
       "      <td>40.749156</td>\n",
       "      <td>-73.982681</td>\n",
       "      <td>488.000000</td>\n",
       "      <td>40.748901</td>\n",
       "      <td>-73.982612</td>\n",
       "      <td>19969.000000</td>\n",
       "      <td>1.000000</td>\n",
       "    </tr>\n",
       "    <tr>\n",
       "      <th>max</th>\n",
       "      <td>21576.000000</td>\n",
       "      <td>3002.000000</td>\n",
       "      <td>40.771522</td>\n",
       "      <td>-73.953809</td>\n",
       "      <td>3002.000000</td>\n",
       "      <td>40.771522</td>\n",
       "      <td>-73.953809</td>\n",
       "      <td>21684.000000</td>\n",
       "      <td>2.000000</td>\n",
       "    </tr>\n",
       "  </tbody>\n",
       "</table>\n",
       "</div>"
      ],
      "text/plain": [
       "        tripduration  start.station.id  start.station.latitude  \\\n",
       "count  936880.000000     936880.000000           936880.000000   \n",
       "mean      892.240022        453.720084               40.734018   \n",
       "std       919.055773        377.767545                0.019564   \n",
       "min        60.000000         72.000000               40.680342   \n",
       "25%       417.000000        306.000000               40.720434   \n",
       "50%       673.000000        403.000000               40.735354   \n",
       "75%      1112.000000        489.000000               40.749156   \n",
       "max     21576.000000       3002.000000               40.771522   \n",
       "\n",
       "       start.station.longitude  end.station.id  end.station.latitude  \\\n",
       "count            936880.000000   936880.000000         936880.000000   \n",
       "mean                -73.991431      452.848643             40.733643   \n",
       "std                   0.012439      378.026358              0.019586   \n",
       "min                 -74.017134       72.000000             40.680342   \n",
       "25%                 -74.001497      305.000000             40.720196   \n",
       "50%                 -73.991255      402.000000             40.735238   \n",
       "75%                 -73.982681      488.000000             40.748901   \n",
       "max                 -73.953809     3002.000000             40.771522   \n",
       "\n",
       "       end.station.longitude         bikeid         gender  \n",
       "count          936880.000000  936880.000000  936880.000000  \n",
       "mean              -73.991475   18156.610201       1.084565  \n",
       "std                 0.012559    2106.789609       0.574513  \n",
       "min               -74.017134   14529.000000       0.000000  \n",
       "25%               -74.001547   16335.000000       1.000000  \n",
       "50%               -73.991255   18161.000000       1.000000  \n",
       "75%               -73.982612   19969.000000       1.000000  \n",
       "max               -73.953809   21684.000000       2.000000  "
      ]
     },
     "execution_count": 22,
     "metadata": {},
     "output_type": "execute_result"
    }
   ],
   "source": [
    "td_data.describe()"
   ]
  },
  {
   "cell_type": "code",
   "execution_count": 23,
   "metadata": {},
   "outputs": [],
   "source": [
    "td_data.to_csv('/Users/rebeccajbooth/Documents/newcitidata/2014-06 - Citi Bike trip data.csv')"
   ]
  },
  {
   "cell_type": "markdown",
   "metadata": {},
   "source": [
    "Of note is the 'tripduration' data. For the total data set of 936K records, the mean trip duration is 892.24 seconds or or 14.87 minutes. The longest duration, max, was 6 hours (21576 seconds)."
   ]
  },
  {
   "cell_type": "markdown",
   "metadata": {},
   "source": [
    "Age: Oldest born 1899, youngest born 1989. Data oldest of 115 years doubtful! "
   ]
  },
  {
   "cell_type": "code",
   "execution_count": 33,
   "metadata": {},
   "outputs": [],
   "source": [
    "import matplotlib.pyplot as plt\n",
    "from matplotlib.ticker import StrMethodFormatter"
   ]
  },
  {
   "cell_type": "code",
   "execution_count": 34,
   "metadata": {},
   "outputs": [
    {
     "data": {
      "image/png": "[encoded data removed]",
      "text/plain": [
       "<Figure size 864x576 with 1 Axes>"
      ]
     },
     "metadata": {
      "needs_background": "light"
     },
     "output_type": "display_data"
    }
   ],
   "source": [
    "ax = td_data.hist(column='tripduration', bins=25, grid=False, figsize=(12,8), color='#86bf91', zorder=2, rwidth=0.9)\n",
    "\n",
    "ax = ax[0]\n",
    "for x in ax:\n",
    "\n",
    "    # Despine\n",
    "    x.spines['right'].set_visible(False)\n",
    "    x.spines['top'].set_visible(False)\n",
    "    x.spines['left'].set_visible(False)\n",
    "\n",
    "    # Switch off ticks\n",
    "    x.tick_params(axis=\"both\", which=\"both\", bottom=\"off\", top=\"off\", labelbottom=\"on\", left=\"off\", right=\"off\", labelleft=\"on\")\n",
    "\n",
    "    # Draw horizontal axis lines\n",
    "    vals = x.get_yticks()\n",
    "    for tick in vals:\n",
    "        x.axhline(y=tick, linestyle='dashed', alpha=0.4, color='#eeeeee', zorder=1)\n",
    "\n",
    "    # Remove title\n",
    "    x.set_title(\"\")\n",
    "\n",
    "    # Set x-axis label\n",
    "    x.set_xlabel(\"Session Duration (Seconds)\", labelpad=20, weight='bold', size=12)\n",
    "\n",
    "    # Set y-axis label\n",
    "    x.set_ylabel(\"Sessions\", labelpad=20, weight='bold', size=12)\n",
    "\n",
    "    # Format y-axis label\n",
    "    x.yaxis.set_major_formatter(StrMethodFormatter('{x:,g}'))"
   ]
  },
  {
   "cell_type": "code",
   "execution_count": 24,
   "metadata": {},
   "outputs": [
    {
     "data": {
      "text/html": [
       "<div>\n",
       "<style scoped>\n",
       "    .dataframe tbody tr th:only-of-type {\n",
       "        vertical-align: middle;\n",
       "    }\n",
       "\n",
       "    .dataframe tbody tr th {\n",
       "        vertical-align: top;\n",
       "    }\n",
       "\n",
       "    .dataframe thead th {\n",
       "        text-align: right;\n",
       "    }\n",
       "</style>\n",
       "<table border=\"1\" class=\"dataframe\">\n",
       "  <thead>\n",
       "    <tr style=\"text-align: right;\">\n",
       "      <th></th>\n",
       "      <th>birth_year</th>\n",
       "      <th>data_year</th>\n",
       "      <th>age</th>\n",
       "      <th>label</th>\n",
       "    </tr>\n",
       "  </thead>\n",
       "  <tbody>\n",
       "    <tr>\n",
       "      <th>0</th>\n",
       "      <td>1899</td>\n",
       "      <td>2014</td>\n",
       "      <td>115</td>\n",
       "      <td>supercentenarian</td>\n",
       "    </tr>\n",
       "    <tr>\n",
       "      <th>1</th>\n",
       "      <td>1900</td>\n",
       "      <td>2014</td>\n",
       "      <td>114</td>\n",
       "      <td>supercentenarian</td>\n",
       "    </tr>\n",
       "    <tr>\n",
       "      <th>2</th>\n",
       "      <td>1901</td>\n",
       "      <td>2014</td>\n",
       "      <td>113</td>\n",
       "      <td>supercentenarian</td>\n",
       "    </tr>\n",
       "    <tr>\n",
       "      <th>3</th>\n",
       "      <td>1902</td>\n",
       "      <td>2014</td>\n",
       "      <td>112</td>\n",
       "      <td>supercentenarian</td>\n",
       "    </tr>\n",
       "    <tr>\n",
       "      <th>4</th>\n",
       "      <td>1903</td>\n",
       "      <td>2014</td>\n",
       "      <td>111</td>\n",
       "      <td>supercentenarian</td>\n",
       "    </tr>\n",
       "  </tbody>\n",
       "</table>\n",
       "</div>"
      ],
      "text/plain": [
       "   birth_year  data_year  age             label\n",
       "0        1899       2014  115  supercentenarian\n",
       "1        1900       2014  114  supercentenarian\n",
       "2        1901       2014  113  supercentenarian\n",
       "3        1902       2014  112  supercentenarian\n",
       "4        1903       2014  111  supercentenarian"
      ]
     },
     "execution_count": 24,
     "metadata": {},
     "output_type": "execute_result"
    }
   ],
   "source": [
    "age_labels = pd.read_csv(\"/Users/rebeccajbooth/Documents/newcitidata/agelabels.csv\")\n",
    "age_labels.head()"
   ]
  },
  {
   "cell_type": "code",
   "execution_count": 25,
   "metadata": {},
   "outputs": [
    {
     "data": {
      "text/plain": [
       "birth_year     int64\n",
       "data_year      int64\n",
       "age            int64\n",
       "label         object\n",
       "dtype: object"
      ]
     },
     "execution_count": 25,
     "metadata": {},
     "output_type": "execute_result"
    }
   ],
   "source": [
    "age_labels.dtypes"
   ]
  },
  {
   "cell_type": "markdown",
   "metadata": {},
   "source": [
    "\n",
    "\n",
    "# Create the names for the the age groups \n",
    "[\"denarian to vicenarian\", \"tricenarian\", \"quadragenarian\", \"quinquagenarian\", \"sexagenarian\", \"septuagenarian\", \"octogenarian\", \"nonagenarian\", \"centenarian to supercentenarian\"\n"
   ]
  }
 ],
 "metadata": {
  "kernelspec": {
   "display_name": "Python 3",
   "language": "python",
   "name": "python3"
  },
  "language_info": {
   "codemirror_mode": {
    "name": "ipython",
    "version": 3
   },
   "file_extension": ".py",
   "mimetype": "text/x-python",
   "name": "python",
   "nbconvert_exporter": "python",
   "pygments_lexer": "ipython3",
   "version": "3.7.3"
  }
 },
 "nbformat": 4,
 "nbformat_minor": 2
}
